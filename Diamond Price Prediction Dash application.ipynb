{
  "nbformat": 4,
  "nbformat_minor": 0,
  "metadata": {
    "colab": {
      "name": "Week_13_Assignment_IDR_Diamond_Dash_App.ipynb",
      "provenance": []
    },
    "kernelspec": {
      "name": "python3",
      "display_name": "Python 3"
    },
    "language_info": {
      "name": "python"
    }
  },
  "cells": [
    {
      "cell_type": "markdown",
      "metadata": {
        "id": "HdHjojF-3_fS"
      },
      "source": [
        "## Implementing a predictive model as a web application"
      ]
    },
    {
      "cell_type": "markdown",
      "metadata": {
        "id": "ItcbVIGK0SPo"
      },
      "source": [
        "Here I pip install Keras, then I import necessary packages for modelling. Since I'm using Google Colab, I use the google.colab import files to upload the diamonds csv and read it to a dataframe, diamonds."
      ]
    },
    {
      "cell_type": "code",
      "metadata": {
        "colab": {
          "base_uri": "https://localhost:8080/"
        },
        "id": "GasJaoPF5qDB",
        "outputId": "5d6fa98c-f803-41c6-9663-8b68e2aa195d"
      },
      "source": [
        "pip install keras"
      ],
      "execution_count": null,
      "outputs": [
        {
          "output_type": "stream",
          "name": "stdout",
          "text": [
            "Requirement already satisfied: keras in /usr/local/lib/python3.7/dist-packages (2.7.0)\n"
          ]
        }
      ]
    },
    {
      "cell_type": "code",
      "metadata": {
        "id": "twGxqWmP2y3y"
      },
      "source": [
        "## Imports\n",
        "import numpy as np\n",
        "import pandas as pd\n",
        "import os\n",
        "from keras.models import Sequential\n",
        "from keras.layers import Dense\n",
        "import joblib"
      ],
      "execution_count": null,
      "outputs": []
    },
    {
      "cell_type": "code",
      "metadata": {
        "colab": {
          "resources": {
            "http://localhost:8080/nbextensions/google.colab/files.js": {
              "data": "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",
              "ok": true,
              "headers": [
                [
                  "content-type",
                  "application/javascript"
                ]
              ],
              "status": 200,
              "status_text": ""
            }
          },
          "base_uri": "https://localhost:8080/",
          "height": 73
        },
        "id": "d3kjOHjV6aSw",
        "outputId": "2d04107f-4725-4390-fcbf-dd6fe761b602"
      },
      "source": [
        "from google.colab import files\n",
        "uploaded = files.upload()\n",
        "diamonds = pd.read_csv(\"diamonds.csv\")"
      ],
      "execution_count": null,
      "outputs": [
        {
          "output_type": "display_data",
          "data": {
            "text/html": [
              "\n",
              "     <input type=\"file\" id=\"files-da06e5c2-442b-4c64-93a2-f9fb87845201\" name=\"files[]\" multiple disabled\n",
              "        style=\"border:none\" />\n",
              "     <output id=\"result-da06e5c2-442b-4c64-93a2-f9fb87845201\">\n",
              "      Upload widget is only available when the cell has been executed in the\n",
              "      current browser session. Please rerun this cell to enable.\n",
              "      </output>\n",
              "      <script src=\"/nbextensions/google.colab/files.js\"></script> "
            ],
            "text/plain": [
              "<IPython.core.display.HTML object>"
            ]
          },
          "metadata": {}
        },
        {
          "output_type": "stream",
          "name": "stdout",
          "text": [
            "Saving diamonds.csv to diamonds.csv\n"
          ]
        }
      ]
    },
    {
      "cell_type": "markdown",
      "metadata": {
        "id": "5EAYUW1F0nzT"
      },
      "source": [
        "Here I follow the data cleaning, and feature engineering described in the textbook. The main feature engineering here is using get_dummies() to one hot encode several categorical features and dimensionality reduction of 3 highly collinear features."
      ]
    },
    {
      "cell_type": "code",
      "metadata": {
        "colab": {
          "base_uri": "https://localhost:8080/"
        },
        "id": "19UjsC5l56Wf",
        "outputId": "241525d7-db94-4da9-c65b-0d7ebd768339"
      },
      "source": [
        "## Preparing the dataset\n",
        "diamonds = diamonds.loc[(diamonds['x']>0) | (diamonds['y']>0)]\n",
        "diamonds.loc[11182, 'x'] = diamonds['x'].median()\n",
        "diamonds.loc[11182, 'z'] = diamonds['z'].median()\n",
        "diamonds = diamonds.loc[~((diamonds['y'] > 30) | (diamonds['z'] \\\n",
        "> 30))]\n",
        "diamonds = pd.concat([diamonds, pd.get_dummies(diamonds['cut'], \\\n",
        "prefix='cut', drop_first=True)], axis=1)\n",
        "diamonds = pd.concat([diamonds,\n",
        "pd.get_dummies(diamonds['color'], prefix='color', \\\n",
        "drop_first=True)], axis=1)\n",
        "diamonds = pd.concat([diamonds, \\\n",
        "pd.get_dummies(diamonds['clarity'], prefix='clarity',\n",
        "drop_first=True)], axis=1)\n",
        "\n",
        "#Dimensionality reduction\n",
        "from sklearn.decomposition import PCA\n",
        "pca = PCA(n_components=1, random_state=123)\n",
        "diamonds['dim_index'] = \\\n",
        "pca.fit_transform(diamonds[['x','y','z']])\n",
        "diamonds.drop(['x','y','z'], axis=1, inplace=True)"
      ],
      "execution_count": null,
      "outputs": [
        {
          "output_type": "stream",
          "name": "stderr",
          "text": [
            "/usr/local/lib/python3.7/dist-packages/pandas/core/indexing.py:1763: SettingWithCopyWarning: \n",
            "A value is trying to be set on a copy of a slice from a DataFrame.\n",
            "Try using .loc[row_indexer,col_indexer] = value instead\n",
            "\n",
            "See the caveats in the documentation: https://pandas.pydata.org/pandas-docs/stable/user_guide/indexing.html#returning-a-view-versus-a-copy\n",
            "  isetter(loc, value)\n"
          ]
        }
      ]
    },
    {
      "cell_type": "markdown",
      "metadata": {
        "id": "LUWdRmOP09PK"
      },
      "source": [
        "I create my predictors. Here x is all the features in the dataset, dropping the non-encoded versions of categorical features. Y is the target, price. Here the numerical features are scaled to be between -1 and 1."
      ]
    },
    {
      "cell_type": "code",
      "metadata": {
        "id": "E_Tw2rCx8sRe"
      },
      "source": [
        "## Creating x and y\n",
        "X = diamonds.drop(['cut', 'color', 'clarity', 'price'], axis=1)\n",
        "y = np.log(diamonds['price'])\n",
        "\n",
        "## Standardization: centering and scaling\n",
        "numerical_features = ['carat', 'depth', 'table', 'dim_index']\n",
        "from sklearn.preprocessing import StandardScaler\n",
        "scaler = StandardScaler()\n",
        "X.loc[:, numerical_features] = \\\n",
        "scaler.fit_transform(X[numerical_features])\n",
        "\n"
      ],
      "execution_count": null,
      "outputs": []
    },
    {
      "cell_type": "markdown",
      "metadata": {
        "id": "i-aGFoXC1K4d"
      },
      "source": [
        "Below the neural network model is constructed. This is a straightforward model that doesn't incorporate much parameter tuning. Possible parameters that can be tuned for this model are described in chapter 6, including Early Stopping as a callback, using Dropout at each layer, as well as changing units, layers, and epochs."
      ]
    },
    {
      "cell_type": "code",
      "metadata": {
        "id": "Yx-Ia-1s9bC5"
      },
      "source": [
        "## Building the model\n",
        "n_input = X.shape[1]\n",
        "n_hidden1 = 32\n",
        "n_hidden2 = 16\n",
        "n_hidden3 = 8\n",
        "\n",
        "nn_reg = Sequential()\n",
        "nn_reg.add(Dense(units=n_hidden1, activation='relu',\n",
        "input_shape=(n_input,)))\n",
        "nn_reg.add(Dense(units=n_hidden2, activation='relu'))\n",
        "nn_reg.add(Dense(units=n_hidden3, activation='relu'))\n",
        "\n",
        "# output layer\n",
        "nn_reg.add(Dense(units=1, activation=None))"
      ],
      "execution_count": null,
      "outputs": []
    },
    {
      "cell_type": "markdown",
      "metadata": {
        "id": "eyOtoWsp1qAc"
      },
      "source": [
        "Next, this neural network is compiled using mean absolute error as loss. It is trained on the predictors, X, and target, y."
      ]
    },
    {
      "cell_type": "code",
      "metadata": {
        "colab": {
          "base_uri": "https://localhost:8080/"
        },
        "id": "jgOwGOHf-9DQ",
        "outputId": "5c8a6615-1d9f-48c6-f10f-f119b15d3b16"
      },
      "source": [
        "## Training the neural network\n",
        "batch_size = 32\n",
        "n_epochs = 40\n",
        "nn_reg.compile(loss='mean_absolute_error', optimizer='adam')\n",
        "nn_reg.fit(X, y, epochs=n_epochs, batch_size=batch_size)"
      ],
      "execution_count": null,
      "outputs": [
        {
          "output_type": "stream",
          "name": "stdout",
          "text": [
            "Epoch 1/40\n",
            "1686/1686 [==============================] - 3s 2ms/step - loss: 0.0843\n",
            "Epoch 2/40\n",
            "1686/1686 [==============================] - 3s 2ms/step - loss: 0.0845\n",
            "Epoch 3/40\n",
            "1686/1686 [==============================] - 3s 2ms/step - loss: 0.0845\n",
            "Epoch 4/40\n",
            "1686/1686 [==============================] - 3s 2ms/step - loss: 0.0844\n",
            "Epoch 5/40\n",
            "1686/1686 [==============================] - 3s 2ms/step - loss: 0.0842\n",
            "Epoch 6/40\n",
            "1686/1686 [==============================] - 3s 2ms/step - loss: 0.0843\n",
            "Epoch 7/40\n",
            "1686/1686 [==============================] - 3s 2ms/step - loss: 0.0848\n",
            "Epoch 8/40\n",
            "1686/1686 [==============================] - 3s 2ms/step - loss: 0.0844\n",
            "Epoch 9/40\n",
            "1686/1686 [==============================] - 3s 2ms/step - loss: 0.0837\n",
            "Epoch 10/40\n",
            "1686/1686 [==============================] - 3s 2ms/step - loss: 0.0839\n",
            "Epoch 11/40\n",
            "1686/1686 [==============================] - 3s 2ms/step - loss: 0.0843\n",
            "Epoch 12/40\n",
            "1686/1686 [==============================] - 3s 2ms/step - loss: 0.0838\n",
            "Epoch 13/40\n",
            "1686/1686 [==============================] - 3s 2ms/step - loss: 0.0835\n",
            "Epoch 14/40\n",
            "1686/1686 [==============================] - 3s 2ms/step - loss: 0.0841\n",
            "Epoch 15/40\n",
            "1686/1686 [==============================] - 3s 2ms/step - loss: 0.0835\n",
            "Epoch 16/40\n",
            "1686/1686 [==============================] - 3s 2ms/step - loss: 0.0830\n",
            "Epoch 17/40\n",
            "1686/1686 [==============================] - 3s 2ms/step - loss: 0.0834\n",
            "Epoch 18/40\n",
            "1686/1686 [==============================] - 3s 2ms/step - loss: 0.0831\n",
            "Epoch 19/40\n",
            "1686/1686 [==============================] - 3s 2ms/step - loss: 0.0834\n",
            "Epoch 20/40\n",
            "1686/1686 [==============================] - 3s 2ms/step - loss: 0.0830\n",
            "Epoch 21/40\n",
            "1686/1686 [==============================] - 3s 2ms/step - loss: 0.0831\n",
            "Epoch 22/40\n",
            "1686/1686 [==============================] - 3s 2ms/step - loss: 0.0830\n",
            "Epoch 23/40\n",
            "1686/1686 [==============================] - 3s 2ms/step - loss: 0.0828\n",
            "Epoch 24/40\n",
            "1686/1686 [==============================] - 3s 2ms/step - loss: 0.0828\n",
            "Epoch 25/40\n",
            "1686/1686 [==============================] - 3s 2ms/step - loss: 0.0827\n",
            "Epoch 26/40\n",
            "1686/1686 [==============================] - 3s 2ms/step - loss: 0.0831\n",
            "Epoch 27/40\n",
            "1686/1686 [==============================] - 3s 2ms/step - loss: 0.0827\n",
            "Epoch 28/40\n",
            "1686/1686 [==============================] - 3s 2ms/step - loss: 0.0829\n",
            "Epoch 29/40\n",
            "1686/1686 [==============================] - 3s 2ms/step - loss: 0.0830\n",
            "Epoch 30/40\n",
            "1686/1686 [==============================] - 3s 2ms/step - loss: 0.0828\n",
            "Epoch 31/40\n",
            "1686/1686 [==============================] - 3s 2ms/step - loss: 0.0831\n",
            "Epoch 32/40\n",
            "1686/1686 [==============================] - 3s 2ms/step - loss: 0.0828\n",
            "Epoch 33/40\n",
            "1686/1686 [==============================] - 3s 2ms/step - loss: 0.0825\n",
            "Epoch 34/40\n",
            "1686/1686 [==============================] - 3s 2ms/step - loss: 0.0831\n",
            "Epoch 35/40\n",
            "1686/1686 [==============================] - 3s 2ms/step - loss: 0.0823\n",
            "Epoch 36/40\n",
            "1686/1686 [==============================] - 3s 2ms/step - loss: 0.0826\n",
            "Epoch 37/40\n",
            "1686/1686 [==============================] - 3s 2ms/step - loss: 0.0821\n",
            "Epoch 38/40\n",
            "1686/1686 [==============================] - 3s 2ms/step - loss: 0.0822\n",
            "Epoch 39/40\n",
            "1686/1686 [==============================] - 3s 2ms/step - loss: 0.0823\n",
            "Epoch 40/40\n",
            "1686/1686 [==============================] - 3s 2ms/step - loss: 0.0823\n"
          ]
        },
        {
          "output_type": "execute_result",
          "data": {
            "text/plain": [
              "<keras.callbacks.History at 0x7f11d538fd10>"
            ]
          },
          "metadata": {},
          "execution_count": 8
        }
      ]
    },
    {
      "cell_type": "markdown",
      "metadata": {
        "id": "865auDOR1_zy"
      },
      "source": [
        "Since I'm using Google Colab, I use this package, albumentations, which I think lets me save files to colab. I got this from stackoverflow when I was trying to get joblib to work."
      ]
    },
    {
      "cell_type": "code",
      "metadata": {
        "colab": {
          "base_uri": "https://localhost:8080/"
        },
        "id": "K4ix8CsGAsB7",
        "outputId": "c88acf0c-6685-4f27-c692-c15c863fa575"
      },
      "source": [
        "!pip install -q -U albumentations\n",
        "!echo \"$(pip freeze | grep albumentations) is successfully installed\""
      ],
      "execution_count": null,
      "outputs": [
        {
          "output_type": "stream",
          "name": "stdout",
          "text": [
            "\u001b[K     |████████████████████████████████| 102 kB 14.6 MB/s \n",
            "\u001b[K     |████████████████████████████████| 47.6 MB 1.5 MB/s \n",
            "\u001b[?25halbumentations==1.1.0 is successfully installed\n"
          ]
        }
      ]
    },
    {
      "cell_type": "code",
      "metadata": {
        "id": "z2mJ0F0kAvPz"
      },
      "source": [
        "import albumentations as A"
      ],
      "execution_count": null,
      "outputs": []
    },
    {
      "cell_type": "markdown",
      "metadata": {
        "id": "_Hw_5l9t2bb0"
      },
      "source": [
        "Below Joblib is used to save files containing PCA and Scaler scripts which can be used later, as well as a model file which can be used later."
      ]
    },
    {
      "cell_type": "code",
      "metadata": {
        "id": "j9RDL5jw_oLP"
      },
      "source": [
        "## Serializing :\n",
        "# PCA\n",
        "joblib.dump(pca, 'pca.joblib')\n",
        "\n",
        "# Scaler\n",
        "joblib.dump(scaler, 'scaler.joblib')\n",
        "\n",
        "#Trained model\n",
        "nn_reg.save(\"diamonds-prices-model.h5\")\n"
      ],
      "execution_count": null,
      "outputs": []
    },
    {
      "cell_type": "markdown",
      "metadata": {
        "id": "H7GbmHa_2kRc"
      },
      "source": [
        "I found that regular 'install dash' didn't work properly in google colab, but I found that using 'install jupyter-dash' got dash to work."
      ]
    },
    {
      "cell_type": "code",
      "metadata": {
        "colab": {
          "base_uri": "https://localhost:8080/"
        },
        "id": "jjvRJ1IyShHj",
        "outputId": "3ee870c5-a638-4d4d-d018-23069bf26d30"
      },
      "source": [
        "pip install jupyter-dash -q #"
      ],
      "execution_count": null,
      "outputs": [
        {
          "output_type": "stream",
          "name": "stdout",
          "text": [
            "\u001b[K     |████████████████████████████████| 7.3 MB 14.3 MB/s \n",
            "\u001b[K     |████████████████████████████████| 25.3 MB 1.4 MB/s \n",
            "\u001b[K     |████████████████████████████████| 357 kB 41.4 MB/s \n",
            "\u001b[?25h  Building wheel for dash-core-components (setup.py) ... \u001b[?25l\u001b[?25hdone\n",
            "  Building wheel for dash-html-components (setup.py) ... \u001b[?25l\u001b[?25hdone\n",
            "  Building wheel for dash-table (setup.py) ... \u001b[?25l\u001b[?25hdone\n"
          ]
        }
      ]
    },
    {
      "cell_type": "markdown",
      "metadata": {
        "id": "QagJXDM529hQ"
      },
      "source": [
        "Below more packages are imported, including the dash core components and html components. These will be used to create the html website display on the dash application. Keras Load_model will be used later to load that model file saved with joblib."
      ]
    },
    {
      "cell_type": "code",
      "metadata": {
        "colab": {
          "base_uri": "https://localhost:8080/",
          "height": 156
        },
        "id": "02m4VjrAANgE",
        "outputId": "d842359e-2fdc-444c-e1a3-f53b1d61595e"
      },
      "source": [
        "import dash\n",
        "from jupyter_dash import JupyterDash\n",
        "\n",
        "import dash_core_components as dcc \n",
        "import dash_html_components as html\n",
        "from dash.dependencies import Input, Output\n",
        "\n",
        "from keras.models import load_model\n",
        "import joblib\n",
        "\n",
        "import numpy as np\n",
        "import pandas as pd"
      ],
      "execution_count": null,
      "outputs": [
        {
          "output_type": "stream",
          "name": "stderr",
          "text": [
            "/usr/local/lib/python3.7/dist-packages/ipykernel_launcher.py:4: UserWarning: \n",
            "The dash_core_components package is deprecated. Please replace\n",
            "`import dash_core_components as dcc` with `from dash import dcc`\n",
            "  after removing the cwd from sys.path.\n",
            "/usr/local/lib/python3.7/dist-packages/ipykernel_launcher.py:5: UserWarning: \n",
            "The dash_html_components package is deprecated. Please replace\n",
            "`import dash_html_components as html` with `from dash import html`\n",
            "  \"\"\"\n"
          ]
        }
      ]
    },
    {
      "cell_type": "markdown",
      "metadata": {
        "id": "DPLlgPCh3V5X"
      },
      "source": [
        "There is a slight difference from the textbook here where instead of \"app = Dash(__name__)\", a different function \"app = JupyterDash(__name__) is used. I think it works the same as dash, but is compatible with google colab."
      ]
    },
    {
      "cell_type": "code",
      "metadata": {
        "id": "tswDwEcbCBfI"
      },
      "source": [
        "app = JupyterDash(__name__)\n",
        "app.css.append_css({\n",
        "    'external_url': 'https://codepen.io/chriddyp/pen/bWLwgP.css'\n",
        "})"
      ],
      "execution_count": null,
      "outputs": []
    },
    {
      "cell_type": "markdown",
      "metadata": {
        "id": "1EwMAqgu3oUH"
      },
      "source": [
        "Here I load the model file, the pca script, and the scaler script that were saved earlier."
      ]
    },
    {
      "cell_type": "code",
      "metadata": {
        "id": "4xlw_7bECUl0"
      },
      "source": [
        "model = load_model('diamonds-prices-model.h5')\n",
        "pca = joblib.load('pca.joblib')\n",
        "scaler = joblib.load('scaler.joblib')\n",
        "## We have to do this due to some keras' issue\n",
        "#model._make_predict_function()"
      ],
      "execution_count": null,
      "outputs": []
    },
    {
      "cell_type": "markdown",
      "metadata": {
        "id": "IuKBmWke3vCR"
      },
      "source": [
        "Here I create some Content Division Elements as described in the textbook. Each feature gets a dropdown or a number entry box where the features of a diamond can be entered and a predicted price will be displayed using the model. The following code cell is for the number entry boxes."
      ]
    },
    {
      "cell_type": "code",
      "metadata": {
        "id": "p-AD_ZUICpfL"
      },
      "source": [
        "## Div for carat\n",
        "input_carat = dcc.Input(\n",
        "    id='carat',\n",
        "    type='number',\n",
        "    value=0.7)\n",
        "\n",
        "div_carat = html.Div(\n",
        "    children=[html.H3('Carat:'), input_carat],\n",
        "    className=\"four columns\"\n",
        "    )\n",
        "\n",
        "## Div for depth\n",
        "input_depth = dcc.Input(\n",
        "    id='depth',\n",
        "    placeholder='',\n",
        "    type='number',\n",
        "    value=60)\n",
        "\n",
        "div_depth = html.Div(\n",
        "    children=[html.H3('Depth:'), input_depth],\n",
        "    className=\"four columns\"\n",
        "    )\n",
        "\n",
        "## Dive for table\n",
        "input_table = dcc.Input(\n",
        "    id='table',\n",
        "    placeholder='',\n",
        "    type='number',\n",
        "    value=60)\n",
        "\n",
        "div_table = html.Div(\n",
        "    children=[html.H3('Table:'), input_table],\n",
        "    className=\"four columns\"\n",
        "    )\n",
        "\n",
        "## Div for x\n",
        "input_x = dcc.Input(\n",
        "    id='x',\n",
        "    placeholder='',\n",
        "    type='number',\n",
        "    value=5)\n",
        "\n",
        "div_x = html.Div(\n",
        "    children=[html.H3('x value:'), input_x],\n",
        "    className=\"four columns\"\n",
        ")\n",
        "\n",
        "## Div for y\n",
        "input_y = dcc.Input(\n",
        "    id='y',\n",
        "    placeholder='',\n",
        "    type='number',\n",
        "    value=5)\n",
        "\n",
        "div_y = html.Div(\n",
        "    children=[html.H3('y value:'), input_y],\n",
        "    className=\"four columns\"\n",
        "    )\n",
        "\n",
        "## Div for Z\n",
        "input_z = dcc.Input(\n",
        "    id='z',\n",
        "    placeholder='',\n",
        "    type='number',\n",
        "    value=3)\n",
        "\n",
        "div_z = html.Div(\n",
        "    children=[html.H3('z values: '), input_z],\n",
        "    className=\"four columns\"\n",
        "    )"
      ],
      "execution_count": null,
      "outputs": []
    },
    {
      "cell_type": "markdown",
      "metadata": {
        "id": "3c1iYFph4Koi"
      },
      "source": [
        "Next, the categorical feature dropdowns have Content Division Elements made for them."
      ]
    },
    {
      "cell_type": "code",
      "metadata": {
        "id": "9e4tbhUoE7fw"
      },
      "source": [
        "## Div for cut\n",
        "cut_values = ['Fair', 'Good', 'Ideal', 'Premium', 'Very Good']\n",
        "cut_options = [{'label': x, 'value': x} for x in cut_values]\n",
        "input_cut = dcc.Dropdown(\n",
        "    id='cut',\n",
        "    options = cut_options,\n",
        "    value = 'Ideal'\n",
        "    )\n",
        "\n",
        "div_cut = html.Div(\n",
        "    children=[html.H3('Cut:'), input_cut],\n",
        "    className=\"four columns\"\n",
        "    )\n",
        "\n",
        "#Div for color\n",
        "color_values = ['D', 'E', 'F', 'G', 'H', 'I', 'J']\n",
        "color_options = [{'label': x, 'value': x} for x in color_values]\n",
        "input_color = dcc.Dropdown(\n",
        "    id='color',\n",
        "    options = color_options,\n",
        "    value = 'G'\n",
        ")\n",
        "\n",
        "div_color = html.Div(\n",
        "    children=[html.H3('Color:'), input_color],\n",
        "    className=\"four columns\"\n",
        ")\n",
        "\n",
        "#Div for clarity\n",
        "clarity_values = ['I1', 'IF', 'SI1', 'SI2', 'VS1', 'VS2', 'VVS1', 'VVS2']\n",
        "clarity_options = [{'label': x, 'value': x} for x in clarity_values]\n",
        "input_clarity = dcc.Dropdown(\n",
        "    id='clarity',\n",
        "    options = clarity_options,\n",
        "    value = 'SI1'\n",
        "    )\n",
        "\n",
        "div_clarity = html.Div(\n",
        "    children=[html.H3('Clarity:'), input_clarity],\n",
        "    className=\"four columns\"\n",
        "    )"
      ],
      "execution_count": null,
      "outputs": []
    },
    {
      "cell_type": "markdown",
      "metadata": {
        "id": "40yaChnL4TIL"
      },
      "source": [
        ""
      ]
    },
    {
      "cell_type": "code",
      "metadata": {
        "id": "a-nEf6pCG0hJ"
      },
      "source": [
        "## Div for numerical characteristics\n",
        "div_numerical = html.Div(\n",
        "    children = [div_carat, div_depth, div_table],\n",
        "    className=\"row\"\n",
        "    )\n",
        "\n",
        "## Div for dimensions\n",
        "div_dimensions = html.Div(\n",
        "    children = [div_x, div_y, div_z],\n",
        "    className=\"row\"\n",
        "    ) \n",
        "\n",
        "## Div for categorical features\n",
        "div_categorical = html.Div(\n",
        "    children = [div_cut, div_color, div_clarity],\n",
        "    className = \"row\"\n",
        "    )"
      ],
      "execution_count": null,
      "outputs": []
    },
    {
      "cell_type": "markdown",
      "metadata": {
        "id": "VZhhmV5G4XqS"
      },
      "source": [
        "Below a function, get prediction, is created to take the values of features and output a price predicted using the neural network."
      ]
    },
    {
      "cell_type": "code",
      "metadata": {
        "id": "CC3S8dEVHrlW"
      },
      "source": [
        "def get_prediction(carat, depth, table, x, y, z, cut, color, clarity):\n",
        "    '''takes the inputs from the user and produces the price prediction'''\n",
        "    \n",
        "    cols = ['carat', 'depth', 'table',\n",
        "            'cut_Good', 'cut_Ideal', 'cut_Premium', 'cut_Very Good',\n",
        "            'color_E', 'color_F', 'color_G', 'color_H', 'color_I', 'color_J',\n",
        "            'clarity_IF','clarity_SI1', 'clarity_SI2', 'clarity_VS1', 'clarity_VS2','clarity_VVS1', 'clarity_VVS2',\n",
        "            'dim_index']\n",
        "\n",
        "    cut_dict = {x: 'cut_' + x for x in cut_values[1:]}\n",
        "    color_dict = {x: 'color_' + x for x in color_values[1:]}\n",
        "    clarity_dict = {x: 'clarity_' + x for x in clarity_values[1:]}\n",
        "    \n",
        "    ## produce a dataframe with a single row of zeros\n",
        "    df = pd.DataFrame(data = np.zeros((1,len(cols))), columns = cols)\n",
        "    \n",
        "    ## get the numeric characteristics\n",
        "    df.loc[0,'carat'] = carat\n",
        "    df.loc[0,'depth'] = depth\n",
        "    df.loc[0,'table'] = table\n",
        "    \n",
        "    ## transform dimensions into a single dim_index using PCA\n",
        "    dims_df = pd.DataFrame(data=[[x, y, z]], columns=['x','y','z'])\n",
        "    df.loc[0,'dim_index'] = pca.transform(dims_df).flatten()[0]\n",
        "    \n",
        "    ## Use the one-hot encoding for the categorical features\n",
        "    if cut!='Fair':\n",
        "        df.loc[0, cut_dict[cut]] = 1\n",
        "    \n",
        "    if color!='D':\n",
        "        df.loc[0, color_dict[color]] = 1\n",
        "    \n",
        "    if clarity != 'I1':\n",
        "        df.loc[0, clarity_dict[clarity]] = 1\n",
        "    \n",
        "    ## Scale the numerical features using the trained scaler\n",
        "    numerical_features = ['carat', 'depth', 'table', 'dim_index']\n",
        "    df.loc[:,numerical_features] = scaler.transform(df.loc[:,numerical_features])\n",
        "    \n",
        "    ## Get the predictions using our trained neural network\n",
        "    prediction = model.predict(df.values).flatten()[0]\n",
        "    \n",
        "    ## Transform the log-prices to prices\n",
        "    prediction = np.exp(prediction)\n",
        "   \n",
        "    return int(prediction)"
      ],
      "execution_count": null,
      "outputs": []
    },
    {
      "cell_type": "markdown",
      "metadata": {
        "id": "po_rbGqj4fvW"
      },
      "source": [
        "Here the layout of the Dash application is set up."
      ]
    },
    {
      "cell_type": "code",
      "metadata": {
        "id": "v4vyvIMYKqp8"
      },
      "source": [
        "## App layout\n",
        "app.layout = html.Div([\n",
        "        html.H1('IDR Predict diamond prices'),\n",
        "        \n",
        "        html.H2('Enter the diamond characteristics to get the predicted price'),\n",
        "        \n",
        "        html.Div(\n",
        "                children=[div_numerical, div_dimensions, div_categorical]\n",
        "                ),\n",
        "        html.H1(id='output',\n",
        "                style={'margin-top': '50px', 'text-align': 'center'})\n",
        "        ])"
      ],
      "execution_count": null,
      "outputs": []
    },
    {
      "cell_type": "markdown",
      "metadata": {
        "id": "7WVM94uF4laG"
      },
      "source": [
        "Here the function show predictions is made, where the get predictions function is assigned on a pred variable that gets printed as a string in the div element."
      ]
    },
    {
      "cell_type": "code",
      "metadata": {
        "id": "zmXihwF5LeBB"
      },
      "source": [
        "predictors = ['carat', 'depth', 'table', 'x', 'y', 'z', 'cut', 'color', 'clarity']\n",
        "@app.callback(\n",
        "        Output('output', 'children'),\n",
        "        [Input(x, 'value') for x in predictors])\n",
        "def show_prediction(carat, depth, table, x, y, z, cut, color, clarity): \n",
        "    pred = get_prediction(carat, depth, table, x, y, z, cut, color, clarity)\n",
        "    return str(\"Predicted Price: {:,}\".format(pred))\n"
      ],
      "execution_count": null,
      "outputs": []
    },
    {
      "cell_type": "markdown",
      "metadata": {
        "id": "ANpJB8HU4vrN"
      },
      "source": [
        "This code below starts my server and dash app. "
      ]
    },
    {
      "cell_type": "code",
      "metadata": {
        "colab": {
          "base_uri": "https://localhost:8080/",
          "height": 141
        },
        "id": "YlRBuMzWMCS6",
        "outputId": "407fb20b-1457-48b3-8c3c-7babbf672582"
      },
      "source": [
        "if __name__ == '__main__':\n",
        "  app.run_server(debug=True)"
      ],
      "execution_count": null,
      "outputs": [
        {
          "output_type": "stream",
          "name": "stdout",
          "text": [
            "Dash app running on:\n"
          ]
        },
        {
          "output_type": "stream",
          "name": "stderr",
          "text": [
            "/usr/local/lib/python3.7/dist-packages/dash/resources.py:72: UserWarning: You have set your config to `serve_locally=True` but A local version of https://codepen.io/chriddyp/pen/bWLwgP.css is not available.\n",
            "If you added this file with `app.scripts.append_script` or `app.css.append_css`, use `external_scripts` or `external_stylesheets` instead.\n",
            "See https://dash.plotly.com/external-resources\n",
            "  ).format(s[\"external_url\"])\n"
          ]
        },
        {
          "output_type": "display_data",
          "data": {
            "application/javascript": [
              "(async (port, path, text, element) => {\n",
              "    if (!google.colab.kernel.accessAllowed) {\n",
              "      return;\n",
              "    }\n",
              "    element.appendChild(document.createTextNode(''));\n",
              "    const url = await google.colab.kernel.proxyPort(port);\n",
              "    const anchor = document.createElement('a');\n",
              "    anchor.href = new URL(path, url).toString();\n",
              "    anchor.target = '_blank';\n",
              "    anchor.setAttribute('data-href', url + path);\n",
              "    anchor.textContent = text;\n",
              "    element.appendChild(anchor);\n",
              "  })(8050, \"/\", \"http://127.0.0.1:8050/\", window.element)"
            ],
            "text/plain": [
              "<IPython.core.display.Javascript object>"
            ]
          },
          "metadata": {}
        }
      ]
    },
    {
      "cell_type": "code",
      "metadata": {
        "id": "yWLw5iCGMhtq"
      },
      "source": [
        ""
      ],
      "execution_count": null,
      "outputs": []
    }
  ]
}